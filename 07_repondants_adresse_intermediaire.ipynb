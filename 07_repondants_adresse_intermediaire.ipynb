{
 "cells": [
  {
   "cell_type": "code",
   "execution_count": 10,
   "id": "7c4c0d10",
   "metadata": {},
   "outputs": [
    {
     "name": "stderr",
     "output_type": "stream",
     "text": [
      "/home/mailan/anaconda3/envs/Mémoire/lib/python3.9/site-packages/scipy/__init__.py:155: UserWarning: A NumPy version >=1.18.5 and <1.25.0 is required for this version of SciPy (detected version 1.25.0\n",
      "  warnings.warn(f\"A NumPy version >={np_minversion} and <{np_maxversion}\"\n"
     ]
    }
   ],
   "source": [
    "import pandas as pd\n",
    "from wordcloud import WordCloud\n",
    "from wordcloud import ImageColorGenerator\n",
    "from wordcloud import STOPWORDS\n",
    "import matplotlib.pyplot as plt\n",
    "import re\n",
    "import numpy as np\n",
    "import spacy"
   ]
  },
  {
   "cell_type": "code",
   "execution_count": 3,
   "id": "651a2d71",
   "metadata": {},
   "outputs": [],
   "source": [
    "#creating colormap\n",
    "import matplotlib as mpl\n",
    "from matplotlib.colors import ListedColormap, LinearSegmentedColormap\n",
    "\n",
    "colors1 = [\"lavender\", \"lightpink\", \"peachpuff\"]\n",
    "cmap1 = LinearSegmentedColormap.from_list(\"mycmap\", colors1)\n",
    "\n",
    "colors2 = [\"darkseagreen\", \"darkgreen\",\"mediumpurple\", \"salmon\", \"palevioletred\",\"lavender\", \"lightpink\", \"peachpuff\", \"mintcream\", \"cadetblue\", \"thistle\", \"lightyellow\", \"mintcream\", \"powderblue\"]\n",
    "cmap2 = LinearSegmentedColormap.from_list(\"mycmap\", colors2)"
   ]
  },
  {
   "cell_type": "code",
   "execution_count": 5,
   "id": "0892d5ec",
   "metadata": {},
   "outputs": [],
   "source": [
    "df=pd.read_csv(\"/home/mailan/Bureau/df_final.csv\")"
   ]
  },
  {
   "cell_type": "markdown",
   "id": "2d7da04b",
   "metadata": {},
   "source": [
    "# Repondants"
   ]
  },
  {
   "cell_type": "code",
   "execution_count": 6,
   "id": "8325aec0",
   "metadata": {},
   "outputs": [],
   "source": [
    "# Choix d'un simple \"oui/non\" dans la mesure où les expressions autour des répondants ne changent pas beaucoup\n",
    "def check_repondants(annonce):\n",
    "    regex_repondants = re.compile(r're?é?-?pon-?dan')\n",
    "    if regex_repondants.search(annonce):\n",
    "        return \"Oui\"\n",
    "    else:\n",
    "        return \"Non\""
   ]
  },
  {
   "cell_type": "code",
   "execution_count": 7,
   "id": "626b0b0c",
   "metadata": {},
   "outputs": [],
   "source": [
    "df['Répondants'] = df['Annonces'].apply(check_repondants)"
   ]
  },
  {
   "cell_type": "code",
   "execution_count": null,
   "id": "dcfa2558",
   "metadata": {},
   "outputs": [],
   "source": [
    "# RÉPONDANTS ET ÉVO CHRONO\n",
    "\n",
    "df_grouped = df.groupby(['Année', 'Répondants']).size().unstack()\n",
    "\n",
    "ax=df_grouped.plot(kind='bar', stacked=True, figsize=(10, 6), colormap=cmap1, edgecolor='black')\n",
    "plt.xlabel('Année')\n",
    "plt.ylabel(\"Nombre d\\'annonces\")\n",
    "plt.legend()\n",
    "plt.xticks(rotation=45)\n",
    "\n",
    "plt.show()"
   ]
  },
  {
   "cell_type": "markdown",
   "id": "0d83b509",
   "metadata": {},
   "source": [
    "# Certificat"
   ]
  },
  {
   "cell_type": "code",
   "execution_count": 13,
   "id": "0110e320",
   "metadata": {},
   "outputs": [],
   "source": [
    "# Choix d'un simple \"oui/non\" dans la mesure où les expressions autour des répondants ne changent pas beaucoup\n",
    "def check_certificat(annonce):\n",
    "    regex_certif = re.compile(r'cer-?ti-?fi-?ca')\n",
    "    if regex_certif.search(annonce):\n",
    "        return \"Oui\"\n",
    "    else:\n",
    "        return \"Non\""
   ]
  },
  {
   "cell_type": "code",
   "execution_count": 14,
   "id": "4b1b4211",
   "metadata": {},
   "outputs": [],
   "source": [
    "df['Certificat'] = df['Annonces'].apply(check_certificat)"
   ]
  },
  {
   "cell_type": "code",
   "execution_count": null,
   "id": "01238c6d",
   "metadata": {},
   "outputs": [],
   "source": [
    "# CERTIF ET ÉVO CHRONO\n",
    "\n",
    "df_grouped = df.groupby(['Année', 'Certificat']).size().unstack()\n",
    "\n",
    "ax=df_grouped.plot(kind='bar', stacked=True, figsize=(10, 6), colormap=cmap1, edgecolor='black')\n",
    "plt.xlabel('Année')\n",
    "plt.ylabel(\"Nombre d\\'annonces\")\n",
    "plt.legend()\n",
    "plt.xticks(rotation=45)\n",
    "\n",
    "plt.show()"
   ]
  },
  {
   "cell_type": "markdown",
   "id": "87831c83",
   "metadata": {},
   "source": [
    "# Adresse"
   ]
  },
  {
   "cell_type": "code",
   "execution_count": 15,
   "id": "c2e4faf8",
   "metadata": {},
   "outputs": [
    {
     "name": "stderr",
     "output_type": "stream",
     "text": [
      "/home/mailan/anaconda3/envs/Mémoire/lib/python3.9/site-packages/spacy/util.py:910: UserWarning: [W095] Model 'en_pipeline' (0.0.0) was trained with spaCy v3.5.3 and may not be 100% compatible with the current version (3.6.1). If you see errors or degraded performance, download a newer compatible model or retrain your custom model with the current spaCy version. For more details and available updates, run: python -m spacy validate\n",
      "  warnings.warn(warn_msg)\n"
     ]
    }
   ],
   "source": [
    "nlp = spacy.load(\"./model-best\")"
   ]
  },
  {
   "cell_type": "code",
   "execution_count": 16,
   "id": "5a1cfe17",
   "metadata": {},
   "outputs": [],
   "source": [
    "def extraire_adresse(annonce):\n",
    "    spans_key = \"sc\"\n",
    "    doc = nlp(annonce)\n",
    "    adresse= ' '.join([span.text for span in doc.spans[spans_key] if span.label_==\"ADRESSE\"])\n",
    "    return adresse"
   ]
  },
  {
   "cell_type": "code",
   "execution_count": 17,
   "id": "c1c96e12",
   "metadata": {},
   "outputs": [],
   "source": [
    "df[\"Adresse\"] = df[\"Annonces\"].apply(extraire_adresse)"
   ]
  },
  {
   "cell_type": "markdown",
   "id": "a34b368c",
   "metadata": {},
   "source": [
    "# Intermédiaires"
   ]
  },
  {
   "cell_type": "code",
   "execution_count": 18,
   "id": "dad18d01",
   "metadata": {},
   "outputs": [],
   "source": [
    "# Genre des intermédiaires\n",
    "\n",
    "\n",
    "# Application de l'expression régulière et création de la nouvelle colonne \"Genre\"\n",
    "F=re.compile(r\"femme|fille|dame|demoiselle|particulière|veuve|citoyenne|la cit\\.|dlle|mlle|la nommée|Madzme|Mad\\.\", re.IGNORECASE)\n",
    "H=re.compile(r\"homme|garçon|particulier|citoyen|le cit\\.|sieur| le nommé|M\\.|Monsieur\", re.IGNORECASE)\n",
    "\n",
    "\n",
    "conditions=[df['Adresse'].str.contains(F), df['Adresse'].str.contains(H)]\n",
    "genre=[\"F\",\"H\"]\n",
    "df[\"Genre de l'intermédiaire\"]=np.select(conditions,genre, np.nan)"
   ]
  },
  {
   "cell_type": "code",
   "execution_count": 66,
   "id": "85b492eb",
   "metadata": {
    "scrolled": true
   },
   "outputs": [
    {
     "data": {
      "text/plain": [
       "Genre de l'intermédiaire\n",
       "nan    4397\n",
       "H       470\n",
       "F       197\n",
       "Name: count, dtype: int64"
      ]
     },
     "execution_count": 66,
     "metadata": {},
     "output_type": "execute_result"
    }
   ],
   "source": [
    "df[\"Genre de l'intermédiaire\"].value_counts()"
   ]
  },
  {
   "cell_type": "code",
   "execution_count": 105,
   "id": "e6723798",
   "metadata": {
    "scrolled": true
   },
   "outputs": [
    {
     "data": {
      "image/png": "[encoded data removed]",
      "text/plain": [
       "<Figure size 1000x600 with 1 Axes>"
      ]
     },
     "metadata": {},
     "output_type": "display_data"
    }
   ],
   "source": [
    "df_grouped = df.groupby(['Année', \"Genre de l'intermédiaire\"]).size().unstack()\n",
    "\n",
    "ax=df_grouped.plot(kind='bar', stacked=True, figsize=(10, 6), colormap=cmap1, edgecolor='black')\n",
    "plt.xlabel('Année')\n",
    "plt.ylabel(\"Nombre d\\'annonces\")\n",
    "plt.legend()\n",
    "plt.xticks(rotation=45)\n",
    "\n",
    "plt.show()"
   ]
  },
  {
   "cell_type": "code",
   "execution_count": 20,
   "id": "4517faa6",
   "metadata": {},
   "outputs": [],
   "source": [
    "df.to_csv(\"/home/mailan/Bureau/df_final.csv\", index=False)"
   ]
  }
 ],
 "metadata": {
  "kernelspec": {
   "display_name": "Python 3 (ipykernel)",
   "language": "python",
   "name": "python3"
  },
  "language_info": {
   "codemirror_mode": {
    "name": "ipython",
    "version": 3
   },
   "file_extension": ".py",
   "mimetype": "text/x-python",
   "name": "python",
   "nbconvert_exporter": "python",
   "pygments_lexer": "ipython3",
   "version": "3.9.15"
  }
 },
 "nbformat": 4,
 "nbformat_minor": 5
}
